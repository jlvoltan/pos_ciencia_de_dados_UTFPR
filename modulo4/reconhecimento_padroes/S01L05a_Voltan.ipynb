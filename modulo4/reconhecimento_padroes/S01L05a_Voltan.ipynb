{
  "nbformat": 4,
  "nbformat_minor": 0,
  "metadata": {
    "colab": {
      "name": "S01L05a_Voltan.ipynb",
      "provenance": []
    },
    "kernelspec": {
      "name": "python3",
      "display_name": "Python 3"
    },
    "language_info": {
      "name": "python"
    }
  },
  "cells": [
    {
      "cell_type": "markdown",
      "metadata": {
        "id": "7N5opausX_32"
      },
      "source": [
        "\n",
        "## Tarefa: **S01L05a - 08/05 a 14/05**\n",
        "Autor: José Luiz Neves Voltan\n",
        "\n",
        "UTFPR\n"
      ]
    },
    {
      "cell_type": "markdown",
      "metadata": {
        "id": "_x0VdqSkXkB-"
      },
      "source": [
        "### Descrição da Tarefa:\n",
        "\n",
        "Tomando como base arquivo L05_manual-pipeline.ipynb montem um pipeline de pré-processamento de dados para realizar a classificação da base de dados \"breast_cancer\"\n",
        "\n",
        "- Essa base de dados \"breast cancer\" está disponível na própria biblioteca do scikit. Também é fácil achar essa base na internet, em outros formatos (txt, csv, etc), se seja da preferência\n",
        "\n",
        "Esse pipeline deve conter\n",
        "\n",
        "3.1 - abertura do dados\n",
        "\n",
        "3.2 - pré-processamento para limpeza dos dados (se precisar)(conversão de características, conversão de rótulos/classes, imputação de valores faltantes, etc)\n",
        "\n",
        "3.3 - divisão em treinamento e teste\n",
        "\n",
        "3.4 - normalização dos dados\n",
        "\n",
        "3.5 - classificação com knn\n",
        "\n",
        "3.6 - avaliação de acurácia\n",
        "\n",
        "4 - a solução deve usar as bibliotecas pandas, numpy e scikit-learn\n",
        "\n",
        "5 - Para cada exercício/comando, fazer um pequeno comentário em texto do que o comando realiza, utilizando linguagem markdown (ambiente colab)\n",
        "\n",
        "6 - Compartilhar o link (no colab, botão superior direito, compartilhar, gerar link, e colocar o link aqui no moodle para minha verificação)\n",
        "\n",
        "- não esquecer de dar acesso de leitura para os que tiverem o link\n",
        "\n"
      ]
    },
    {
      "cell_type": "markdown",
      "metadata": {
        "id": "uHs_x88HZJN-"
      },
      "source": [
        "### Importando as bibliotecas"
      ]
    },
    {
      "cell_type": "code",
      "metadata": {
        "id": "N24zccfkXh5K"
      },
      "source": [
        "#Importando as bibliotecas:\n",
        "import pandas as pd\n",
        "import numpy as np\n",
        "from sklearn.model_selection import train_test_split\n",
        "from sklearn.preprocessing import StandardScaler\n",
        "from sklearn.neighbors import KNeighborsClassifier\n",
        "from sklearn.metrics import accuracy_score\n",
        "\n",
        "from sklearn.datasets import load_breast_cancer  # Irei utilizar o dataset a partir da própria biblioteca\n",
        "\n",
        "from collections import Counter"
      ],
      "execution_count": 17,
      "outputs": []
    },
    {
      "cell_type": "markdown",
      "metadata": {
        "id": "7JiBmYc6ZNyc"
      },
      "source": [
        "### Obtenção do dataset\n",
        "\n",
        "- Para maiores informações do dataset vide:  `https://scikit-learn.org/stable/modules/generated/sklearn.datasets.load_breast_cancer.html`"
      ]
    },
    {
      "cell_type": "markdown",
      "metadata": {
        "id": "YAKp-slPbfd9"
      },
      "source": [
        "- Nome das colunas do Dataset"
      ]
    },
    {
      "cell_type": "code",
      "metadata": {
        "colab": {
          "base_uri": "https://localhost:8080/"
        },
        "id": "QqPmisFEbJu8",
        "outputId": "615f41dc-2e20-4d5b-8ead-f75f8416c6a3"
      },
      "source": [
        "load_breast_cancer().feature_names"
      ],
      "execution_count": 11,
      "outputs": [
        {
          "output_type": "execute_result",
          "data": {
            "text/plain": [
              "array(['mean radius', 'mean texture', 'mean perimeter', 'mean area',\n",
              "       'mean smoothness', 'mean compactness', 'mean concavity',\n",
              "       'mean concave points', 'mean symmetry', 'mean fractal dimension',\n",
              "       'radius error', 'texture error', 'perimeter error', 'area error',\n",
              "       'smoothness error', 'compactness error', 'concavity error',\n",
              "       'concave points error', 'symmetry error',\n",
              "       'fractal dimension error', 'worst radius', 'worst texture',\n",
              "       'worst perimeter', 'worst area', 'worst smoothness',\n",
              "       'worst compactness', 'worst concavity', 'worst concave points',\n",
              "       'worst symmetry', 'worst fractal dimension'], dtype='<U23')"
            ]
          },
          "metadata": {
            "tags": []
          },
          "execution_count": 11
        }
      ]
    },
    {
      "cell_type": "markdown",
      "metadata": {
        "id": "imjzKP_Nbs0F"
      },
      "source": [
        "- Rótulos"
      ]
    },
    {
      "cell_type": "code",
      "metadata": {
        "colab": {
          "base_uri": "https://localhost:8080/"
        },
        "id": "BtvSyr1RbtR1",
        "outputId": "c96a1bd3-17bc-4785-ad7a-eb58f0bf270c"
      },
      "source": [
        "load_breast_cancer().target_names"
      ],
      "execution_count": 12,
      "outputs": [
        {
          "output_type": "execute_result",
          "data": {
            "text/plain": [
              "array(['malignant', 'benign'], dtype='<U9')"
            ]
          },
          "metadata": {
            "tags": []
          },
          "execution_count": 12
        }
      ]
    },
    {
      "cell_type": "code",
      "metadata": {
        "id": "nj4AmO1BXjR2"
      },
      "source": [
        "# Importando...\n",
        " X, y = load_breast_cancer(return_X_y=True)  \n",
        " # Perceba que o parâmetro passado ja faz a divisão de características e Label"
      ],
      "execution_count": 4,
      "outputs": []
    },
    {
      "cell_type": "code",
      "metadata": {
        "colab": {
          "base_uri": "https://localhost:8080/"
        },
        "id": "b7mKjFZdXjfE",
        "outputId": "d8720187-2a2c-40f7-ab34-7354d99b9a36"
      },
      "source": [
        "print(X)"
      ],
      "execution_count": 7,
      "outputs": [
        {
          "output_type": "stream",
          "text": [
            "[[1.799e+01 1.038e+01 1.228e+02 ... 2.654e-01 4.601e-01 1.189e-01]\n",
            " [2.057e+01 1.777e+01 1.329e+02 ... 1.860e-01 2.750e-01 8.902e-02]\n",
            " [1.969e+01 2.125e+01 1.300e+02 ... 2.430e-01 3.613e-01 8.758e-02]\n",
            " ...\n",
            " [1.660e+01 2.808e+01 1.083e+02 ... 1.418e-01 2.218e-01 7.820e-02]\n",
            " [2.060e+01 2.933e+01 1.401e+02 ... 2.650e-01 4.087e-01 1.240e-01]\n",
            " [7.760e+00 2.454e+01 4.792e+01 ... 0.000e+00 2.871e-01 7.039e-02]]\n"
          ],
          "name": "stdout"
        }
      ]
    },
    {
      "cell_type": "code",
      "metadata": {
        "colab": {
          "base_uri": "https://localhost:8080/"
        },
        "id": "BaKW8AZHXjk8",
        "outputId": "591f51ac-dc87-4df2-ab3a-69608291d11a"
      },
      "source": [
        "print(y)"
      ],
      "execution_count": 8,
      "outputs": [
        {
          "output_type": "stream",
          "text": [
            "[0 0 0 0 0 0 0 0 0 0 0 0 0 0 0 0 0 0 0 1 1 1 0 0 0 0 0 0 0 0 0 0 0 0 0 0 0\n",
            " 1 0 0 0 0 0 0 0 0 1 0 1 1 1 1 1 0 0 1 0 0 1 1 1 1 0 1 0 0 1 1 1 1 0 1 0 0\n",
            " 1 0 1 0 0 1 1 1 0 0 1 0 0 0 1 1 1 0 1 1 0 0 1 1 1 0 0 1 1 1 1 0 1 1 0 1 1\n",
            " 1 1 1 1 1 1 0 0 0 1 0 0 1 1 1 0 0 1 0 1 0 0 1 0 0 1 1 0 1 1 0 1 1 1 1 0 1\n",
            " 1 1 1 1 1 1 1 1 0 1 1 1 1 0 0 1 0 1 1 0 0 1 1 0 0 1 1 1 1 0 1 1 0 0 0 1 0\n",
            " 1 0 1 1 1 0 1 1 0 0 1 0 0 0 0 1 0 0 0 1 0 1 0 1 1 0 1 0 0 0 0 1 1 0 0 1 1\n",
            " 1 0 1 1 1 1 1 0 0 1 1 0 1 1 0 0 1 0 1 1 1 1 0 1 1 1 1 1 0 1 0 0 0 0 0 0 0\n",
            " 0 0 0 0 0 0 0 1 1 1 1 1 1 0 1 0 1 1 0 1 1 0 1 0 0 1 1 1 1 1 1 1 1 1 1 1 1\n",
            " 1 0 1 1 0 1 0 1 1 1 1 1 1 1 1 1 1 1 1 1 1 0 1 1 1 0 1 0 1 1 1 1 0 0 0 1 1\n",
            " 1 1 0 1 0 1 0 1 1 1 0 1 1 1 1 1 1 1 0 0 0 1 1 1 1 1 1 1 1 1 1 1 0 0 1 0 0\n",
            " 0 1 0 0 1 1 1 1 1 0 1 1 1 1 1 0 1 1 1 0 1 1 0 0 1 1 1 1 1 1 0 1 1 1 1 1 1\n",
            " 1 0 1 1 1 1 1 0 1 1 0 1 1 1 1 1 1 1 1 1 1 1 1 0 1 0 0 1 0 1 1 1 1 1 0 1 1\n",
            " 0 1 0 1 1 0 1 0 1 1 1 1 1 1 1 1 0 0 1 1 1 1 1 1 0 1 1 1 1 1 1 1 1 1 1 0 1\n",
            " 1 1 1 1 1 1 0 1 0 1 1 0 1 1 1 1 1 0 0 1 0 1 0 1 1 1 1 1 0 1 1 0 1 0 1 0 0\n",
            " 1 1 1 0 1 1 1 1 1 1 1 1 1 1 1 0 1 0 0 1 1 1 1 1 1 1 1 1 1 1 1 1 1 1 1 1 1\n",
            " 1 1 1 1 1 1 1 0 0 0 0 0 0 1]\n"
          ],
          "name": "stdout"
        }
      ]
    },
    {
      "cell_type": "markdown",
      "metadata": {
        "id": "nAvuX-AEcDP-"
      },
      "source": [
        "- Nesse momento já temos nosso dataset dividido entre características e labels."
      ]
    },
    {
      "cell_type": "markdown",
      "metadata": {
        "id": "__zNbXfscXH-"
      },
      "source": [
        "### Separando em conjunto de teste e treinamento\n",
        "\n",
        "*   Iremos utilizar o método train_test_split()  para maiores detalhes leia: `https://scikit-learn.org/stable/modules/generated/sklearn.model_selection.train_test_split.html`\n",
        "\n",
        "* Perceba que parâmetro shuffle=True não era necessário por ser o *default*\n"
      ]
    },
    {
      "cell_type": "code",
      "metadata": {
        "id": "MvcJa_YebdU0"
      },
      "source": [
        "X_treinamento, X_teste, y_treinamento, y_teste = train_test_split(X, y, test_size=0.2,shuffle=True, stratify=y)"
      ],
      "execution_count": 13,
      "outputs": []
    },
    {
      "cell_type": "markdown",
      "metadata": {
        "id": "vZmNDlaweE-s"
      },
      "source": [
        "- Vamos verificar a quantidade de ocorrências das labels e se a proporção foi mantida como esperado (pois usamos `stratify=y`)"
      ]
    },
    {
      "cell_type": "code",
      "metadata": {
        "colab": {
          "base_uri": "https://localhost:8080/"
        },
        "id": "S-HWGg_cd0Q2",
        "outputId": "0067d9aa-1725-4779-c03e-3fa42af277ff"
      },
      "source": [
        "# Antes\n",
        "print(Counter(y))\n",
        "total=357+212\n",
        "proporcao_1= 357/total\n",
        "print(proporcao_1)"
      ],
      "execution_count": 21,
      "outputs": [
        {
          "output_type": "stream",
          "text": [
            "Counter({1: 357, 0: 212})\n",
            "0.6274165202108963\n"
          ],
          "name": "stdout"
        }
      ]
    },
    {
      "cell_type": "code",
      "metadata": {
        "colab": {
          "base_uri": "https://localhost:8080/"
        },
        "id": "1Q4rlwvra94e",
        "outputId": "9b6d3e1b-8cea-476f-9b29-c03a153103e8"
      },
      "source": [
        "#Depois,  no conjunto de treinamento\n",
        "\n",
        "#np.bincount(y_treinamento)  é só outra forma de encontrar essa proporção\n",
        "print(Counter(y_treinamento))\n",
        "\n",
        "#Verificando a proporção\n",
        "total=170+285\n",
        "proporcao_1= 285/total\n",
        "print(proporcao_1)"
      ],
      "execution_count": 24,
      "outputs": [
        {
          "output_type": "stream",
          "text": [
            "Counter({1: 285, 0: 170})\n",
            "0.6263736263736264\n"
          ],
          "name": "stdout"
        }
      ]
    },
    {
      "cell_type": "markdown",
      "metadata": {
        "id": "Q0m5arHPfM9n"
      },
      "source": [
        "### Normalizando\n",
        "\n",
        "- Para entender como a Classe **StandardScaler** funciona vide: `https://scikit-learn.org/stable/modules/generated/sklearn.preprocessing.StandardScaler.html `\n",
        "\n",
        "- A normalização utiliza a fórmula z = (x - u) / s\n",
        "\n",
        "\"*where u is the mean of the training samples or zero if with_mean=False, and s is the standard deviation of the training samples or one if with_std=False.*\""
      ]
    },
    {
      "cell_type": "code",
      "metadata": {
        "colab": {
          "base_uri": "https://localhost:8080/"
        },
        "id": "8rYAMmSYa98P",
        "outputId": "dc25842e-288c-4d75-ecfd-23be14d269a8"
      },
      "source": [
        "scaler = StandardScaler()\n",
        "scaler.fit(X_treinamento)\n",
        "X_treinamento_std = scaler.transform(X_treinamento)\n",
        "X_teste_std = scaler.transform(X_teste)\n",
        "X_treinamento_std"
      ],
      "execution_count": 25,
      "outputs": [
        {
          "output_type": "execute_result",
          "data": {
            "text/plain": [
              "array([[-0.40213226, -0.56775283, -0.40101947, ..., -0.54396123,\n",
              "         0.23526552,  0.07740845],\n",
              "       [ 0.56603796, -0.99108596,  0.50245169, ..., -0.05282031,\n",
              "        -0.2285337 , -0.76328187],\n",
              "       [-0.60776133, -0.28476384, -0.66720968, ..., -1.33841382,\n",
              "        -1.18937372, -0.74967847],\n",
              "       ...,\n",
              "       [-0.73056759, -0.18583273, -0.75884214, ..., -0.50718242,\n",
              "         0.45529313, -0.30022203],\n",
              "       [ 0.23760264,  0.67693859,  0.22174955, ...,  0.21810179,\n",
              "         0.3808953 ,  0.45503892],\n",
              "       [ 0.08909275,  1.33954697,  0.15043379, ...,  0.06220807,\n",
              "         0.41888568,  0.98774819]])"
            ]
          },
          "metadata": {
            "tags": []
          },
          "execution_count": 25
        }
      ]
    },
    {
      "cell_type": "markdown",
      "metadata": {
        "id": "5S897wL4hucu"
      },
      "source": [
        "- Verificando a média e desvio padrão\n"
      ]
    },
    {
      "cell_type": "code",
      "metadata": {
        "colab": {
          "base_uri": "https://localhost:8080/"
        },
        "id": "Gx4izOcVa9_u",
        "outputId": "94ef9246-4cbf-4d4d-ed52-e8ce9c3ad5a2"
      },
      "source": [
        "print(scaler.mean_)\n",
        "print(scaler.var_)"
      ],
      "execution_count": 27,
      "outputs": [
        {
          "output_type": "stream",
          "text": [
            "[1.41580462e+01 1.91677143e+01 9.21818242e+01 6.57019560e+02\n",
            " 9.65065495e-02 1.04971890e-01 9.00926916e-02 4.96541363e-02\n",
            " 1.81988571e-01 6.28229890e-02 4.00640879e-01 1.20146857e+00\n",
            " 2.83449297e+00 3.98344637e+01 7.02398022e-03 2.53658220e-02\n",
            " 3.20595815e-02 1.18480835e-02 2.05368066e-02 3.77370769e-03\n",
            " 1.63003604e+01 2.55903736e+01 1.07438835e+02 8.81944615e+02\n",
            " 1.32653714e-01 2.55618352e-01 2.75681626e-01 1.16389873e-01\n",
            " 2.92237363e-01 8.41474066e-02]\n",
            "[1.22601548e+01 1.88917042e+01 5.81682337e+02 1.24165307e+05\n",
            " 1.95439514e-04 2.81313578e-03 6.36365283e-03 1.49409565e-03\n",
            " 7.21442551e-04 5.19020289e-05 7.62802658e-02 2.95955299e-01\n",
            " 4.01394719e+00 2.13252414e+03 8.88111993e-06 3.16543552e-04\n",
            " 9.87874858e-04 3.77400265e-05 6.56159455e-05 7.55825696e-06\n",
            " 2.30027268e+01 3.86825952e+01 1.10725624e+03 3.19449013e+05\n",
            " 5.36118225e-04 2.49640189e-02 4.41959341e-02 4.36533095e-03\n",
            " 3.99094014e-03 3.37741846e-04]\n"
          ],
          "name": "stdout"
        }
      ]
    },
    {
      "cell_type": "markdown",
      "metadata": {
        "id": "w-pubUi7g6o-"
      },
      "source": [
        "### Criando e aplicando o modelo\n",
        "- Iremos utilizar o KNN usando a quantidade de vizinhos como 3\n",
        "- Inicialmente irmeos treinar o modelo usando o conjunto de treinamento, já normalizado."
      ]
    },
    {
      "cell_type": "code",
      "metadata": {
        "colab": {
          "base_uri": "https://localhost:8080/"
        },
        "id": "g06ID_eMgzhi",
        "outputId": "fe4e40a7-d7c0-4557-d9c8-ed70c5996e98"
      },
      "source": [
        "knn_model = KNeighborsClassifier(n_neighbors=3)\n",
        "knn_model.fit(X_treinamento_std, y_treinamento)"
      ],
      "execution_count": 28,
      "outputs": [
        {
          "output_type": "execute_result",
          "data": {
            "text/plain": [
              "KNeighborsClassifier(algorithm='auto', leaf_size=30, metric='minkowski',\n",
              "                     metric_params=None, n_jobs=None, n_neighbors=3, p=2,\n",
              "                     weights='uniform')"
            ]
          },
          "metadata": {
            "tags": []
          },
          "execution_count": 28
        }
      ]
    },
    {
      "cell_type": "markdown",
      "metadata": {
        "id": "d8I9mq07jjGe"
      },
      "source": [
        "- Agora iremos prever os rótulos com base no modelo criado e treinado"
      ]
    },
    {
      "cell_type": "code",
      "metadata": {
        "colab": {
          "base_uri": "https://localhost:8080/"
        },
        "id": "1TRY64V0iH7s",
        "outputId": "d1d37e45-6d98-420c-a9d8-ecd4e114313d"
      },
      "source": [
        "y_pred = knn_model.predict(X_teste_std)\n",
        "print(y_pred)\n",
        "print(y_teste)"
      ],
      "execution_count": 30,
      "outputs": [
        {
          "output_type": "stream",
          "text": [
            "[0 1 1 1 0 0 1 1 1 0 1 1 0 1 0 1 0 1 1 1 0 1 1 0 1 0 0 1 1 1 1 1 0 0 0 1 0\n",
            " 0 0 1 1 0 0 0 1 0 1 1 1 0 1 1 1 0 1 1 1 1 1 1 1 1 1 1 0 0 0 1 1 0 1 1 1 1\n",
            " 0 1 1 1 0 1 1 0 1 0 0 0 1 1 1 1 0 1 0 0 1 1 0 1 1 0 1 1 1 1 1 1 1 1 1 1 0\n",
            " 1 0 1]\n",
            "[0 1 1 1 0 0 1 1 1 0 1 1 0 1 0 1 0 1 1 1 0 1 1 0 1 0 0 1 1 1 1 1 0 0 0 1 0\n",
            " 0 0 1 1 0 0 0 1 0 1 1 1 0 1 1 1 0 1 1 1 1 1 1 0 1 1 1 0 0 0 1 1 0 1 1 1 1\n",
            " 0 1 1 1 0 1 1 0 1 0 0 0 1 1 1 1 0 1 0 0 1 0 0 1 1 0 1 1 1 1 1 1 1 1 1 1 0\n",
            " 1 0 1]\n"
          ],
          "name": "stdout"
        }
      ]
    },
    {
      "cell_type": "markdown",
      "metadata": {
        "id": "9Ei-YpMemUxN"
      },
      "source": [
        "### Métricas de acerto"
      ]
    },
    {
      "cell_type": "markdown",
      "metadata": {
        "id": "hqx991zRjwsz"
      },
      "source": [
        "* Podemos melhorarmos a visualização anterior usando um dataframe para uma melhor comparação"
      ]
    },
    {
      "cell_type": "code",
      "metadata": {
        "id": "MgSseNXRi1B9"
      },
      "source": [
        "dataset = pd.DataFrame({'Previsto': y_pred, 'Teste': y_teste})\n",
        "def compara(x): \n",
        "  if x[0]==x[1]: return 1\n",
        "  else: return 0\n",
        "\n",
        "dataset['Acertou']= dataset.apply(compara, axis=1)"
      ],
      "execution_count": 37,
      "outputs": []
    },
    {
      "cell_type": "code",
      "metadata": {
        "colab": {
          "base_uri": "https://localhost:8080/",
          "height": 419
        },
        "id": "agiWkbmvl9nq",
        "outputId": "6dbe1d71-f2e0-4733-fe2e-3485af998dc0"
      },
      "source": [
        "dataset"
      ],
      "execution_count": 38,
      "outputs": [
        {
          "output_type": "execute_result",
          "data": {
            "text/html": [
              "<div>\n",
              "<style scoped>\n",
              "    .dataframe tbody tr th:only-of-type {\n",
              "        vertical-align: middle;\n",
              "    }\n",
              "\n",
              "    .dataframe tbody tr th {\n",
              "        vertical-align: top;\n",
              "    }\n",
              "\n",
              "    .dataframe thead th {\n",
              "        text-align: right;\n",
              "    }\n",
              "</style>\n",
              "<table border=\"1\" class=\"dataframe\">\n",
              "  <thead>\n",
              "    <tr style=\"text-align: right;\">\n",
              "      <th></th>\n",
              "      <th>Previsto</th>\n",
              "      <th>Teste</th>\n",
              "      <th>Acertou</th>\n",
              "    </tr>\n",
              "  </thead>\n",
              "  <tbody>\n",
              "    <tr>\n",
              "      <th>0</th>\n",
              "      <td>0</td>\n",
              "      <td>0</td>\n",
              "      <td>1</td>\n",
              "    </tr>\n",
              "    <tr>\n",
              "      <th>1</th>\n",
              "      <td>1</td>\n",
              "      <td>1</td>\n",
              "      <td>1</td>\n",
              "    </tr>\n",
              "    <tr>\n",
              "      <th>2</th>\n",
              "      <td>1</td>\n",
              "      <td>1</td>\n",
              "      <td>1</td>\n",
              "    </tr>\n",
              "    <tr>\n",
              "      <th>3</th>\n",
              "      <td>1</td>\n",
              "      <td>1</td>\n",
              "      <td>1</td>\n",
              "    </tr>\n",
              "    <tr>\n",
              "      <th>4</th>\n",
              "      <td>0</td>\n",
              "      <td>0</td>\n",
              "      <td>1</td>\n",
              "    </tr>\n",
              "    <tr>\n",
              "      <th>...</th>\n",
              "      <td>...</td>\n",
              "      <td>...</td>\n",
              "      <td>...</td>\n",
              "    </tr>\n",
              "    <tr>\n",
              "      <th>109</th>\n",
              "      <td>1</td>\n",
              "      <td>1</td>\n",
              "      <td>1</td>\n",
              "    </tr>\n",
              "    <tr>\n",
              "      <th>110</th>\n",
              "      <td>0</td>\n",
              "      <td>0</td>\n",
              "      <td>1</td>\n",
              "    </tr>\n",
              "    <tr>\n",
              "      <th>111</th>\n",
              "      <td>1</td>\n",
              "      <td>1</td>\n",
              "      <td>1</td>\n",
              "    </tr>\n",
              "    <tr>\n",
              "      <th>112</th>\n",
              "      <td>0</td>\n",
              "      <td>0</td>\n",
              "      <td>1</td>\n",
              "    </tr>\n",
              "    <tr>\n",
              "      <th>113</th>\n",
              "      <td>1</td>\n",
              "      <td>1</td>\n",
              "      <td>1</td>\n",
              "    </tr>\n",
              "  </tbody>\n",
              "</table>\n",
              "<p>114 rows × 3 columns</p>\n",
              "</div>"
            ],
            "text/plain": [
              "     Previsto  Teste  Acertou\n",
              "0           0      0        1\n",
              "1           1      1        1\n",
              "2           1      1        1\n",
              "3           1      1        1\n",
              "4           0      0        1\n",
              "..        ...    ...      ...\n",
              "109         1      1        1\n",
              "110         0      0        1\n",
              "111         1      1        1\n",
              "112         0      0        1\n",
              "113         1      1        1\n",
              "\n",
              "[114 rows x 3 columns]"
            ]
          },
          "metadata": {
            "tags": []
          },
          "execution_count": 38
        }
      ]
    },
    {
      "cell_type": "code",
      "metadata": {
        "colab": {
          "base_uri": "https://localhost:8080/"
        },
        "id": "UqreuOjNmCSp",
        "outputId": "dcdb1df0-6a18-442c-a10e-aaf6d83f21ee"
      },
      "source": [
        "Counter(dataset['Acertou'])"
      ],
      "execution_count": 39,
      "outputs": [
        {
          "output_type": "execute_result",
          "data": {
            "text/plain": [
              "Counter({0: 2, 1: 112})"
            ]
          },
          "metadata": {
            "tags": []
          },
          "execution_count": 39
        }
      ]
    },
    {
      "cell_type": "code",
      "metadata": {
        "colab": {
          "base_uri": "https://localhost:8080/"
        },
        "id": "TAtui6aVmch9",
        "outputId": "e16cf917-cba8-485f-87dd-aff5dbe60ad4"
      },
      "source": [
        "accuracy_score(y_teste, y_pred)"
      ],
      "execution_count": 40,
      "outputs": [
        {
          "output_type": "execute_result",
          "data": {
            "text/plain": [
              "0.9824561403508771"
            ]
          },
          "metadata": {
            "tags": []
          },
          "execution_count": 40
        }
      ]
    }
  ]
}